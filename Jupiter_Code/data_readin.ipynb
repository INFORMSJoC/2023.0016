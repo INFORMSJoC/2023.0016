{
 "cells": [
  {
   "cell_type": "code",
   "execution_count": 3,
   "metadata": {},
   "outputs": [],
   "source": [
    "import numpy as np\n",
    "import os"
   ]
  },
  {
   "cell_type": "code",
   "execution_count": 4,
   "metadata": {},
   "outputs": [],
   "source": [
    "# Data Readin function\n",
    "# fileName: users should provivde the relative file path for function to readin.\n",
    "def data_readin(fileName):\n",
    "    input_file = open(fileName, \"r\")\n",
    "    raw_data_string = [elem for elem in input_file.readlines() if elem != '\\n']\n",
    "    input_file.close()\n",
    "    \n",
    "    raw_data_dict = {}\n",
    "    raw_data_dist = []\n",
    "    raw_data_dist_matrix = []\n",
    "    \n",
    "    test_data_dict = {}\n",
    "    flip_keys = []\n",
    "    flip_dists = []\n",
    "\n",
    "    front_index = 1\n",
    "    back_index = front_index+1\n",
    "    switch_indicator = 0\n",
    "    \n",
    "    for index in range(len(raw_data_string)):\n",
    "        raw_data_string[index] = raw_data_string[index].replace('\\n', \"\")\n",
    "        raw_data_string[index] = raw_data_string[index].split()\n",
    "        if index == 0:\n",
    "            num_targets = int(raw_data_string[index][0])\n",
    "            num_views = int(raw_data_string[index][1])\n",
    "        else:\n",
    "            raw_data_dist=[]\n",
    "            for item in raw_data_string[index]:\n",
    "                raw_data_dist.append(int(item))\n",
    "            raw_data_dist_matrix.append(raw_data_dist)\n",
    "            switch_indicator = switch_indicator +1\n",
    "            if switch_indicator > num_targets-1:\n",
    "                raw_data_dict[(front_index, back_index)] = raw_data_dist_matrix \n",
    "                raw_data_dist_matrix = []\n",
    "                back_index = back_index +1\n",
    "                if back_index > num_views:\n",
    "                    front_index = front_index +1\n",
    "                    back_index = front_index +1\n",
    "                switch_indicator = 0\n",
    "                \n",
    "    for key in raw_data_dict.keys():\n",
    "        test_dists = raw_data_dict[key]\n",
    "        test_dists_array = np.array([np.array(dist) for dist in test_dists])\n",
    "        test_data_dict[key] = test_dists_array\n",
    "        flip_key = (key[1], key[0])\n",
    "        flip_dist_array = test_dists_array.T\n",
    "        flip_dist = flip_dist_array.tolist()\n",
    "\n",
    "        flip_keys.append(flip_key)\n",
    "        flip_dists.append(flip_dist)\n",
    "\n",
    "    for i in range(len(flip_keys)):\n",
    "        flip_key = flip_keys[i]\n",
    "        flip_dist = flip_dists[i]\n",
    "        raw_data_dict[flip_key] = flip_dist\n",
    "        \n",
    "    return num_targets, num_views, raw_data_dict"
   ]
  },
  {
   "cell_type": "code",
   "execution_count": 5,
   "metadata": {},
   "outputs": [
    {
     "name": "stdout",
     "output_type": "stream",
     "text": [
      "3\n",
      "4\n",
      "{(1, 2): [[9, 21, 11], [10, 40, 8], [13, 17, 15]], (1, 3): [[18, 22, 5], [37, 41, 14], [14, 18, 9]], (1, 4): [[12, 21, 2], [7, 2, 21], [16, 25, 2]], (2, 3): [[27, 31, 4], [3, 1, 26], [29, 33, 6]], (2, 4): [[3, 12, 11], [33, 42, 19], [1, 10, 13]], (3, 4): [[30, 39, 16], [34, 43, 20], [7, 16, 7]], (2, 1): [[9, 10, 13], [21, 40, 17], [11, 8, 15]], (3, 1): [[18, 37, 14], [22, 41, 18], [5, 14, 9]], (4, 1): [[12, 7, 16], [21, 2, 25], [2, 21, 2]], (3, 2): [[27, 3, 29], [31, 1, 33], [4, 26, 6]], (4, 2): [[3, 33, 1], [12, 42, 10], [11, 19, 13]], (4, 3): [[30, 34, 7], [39, 43, 16], [16, 20, 7]]}\n"
     ]
    }
   ],
   "source": [
    "def main():\n",
    "    filePath = 'dist_data/'\n",
    "    fileName = str(4) + 'D' + str(3) + '-' + str(1) + '.dat'\n",
    "    completeFileName = os.path.join(filePath, fileName)\n",
    "    num_targets, num_views, raw_data_dict = data_readin(completeFileName)\n",
    "    print(num_targets)\n",
    "    print(num_views)\n",
    "    print(raw_data_dict)\n",
    "        \n",
    "if __name__ == \"__main__\":\n",
    "    main()"
   ]
  }
 ],
 "metadata": {
  "kernelspec": {
   "display_name": "Python 3 (ipykernel)",
   "language": "python",
   "name": "python3"
  },
  "language_info": {
   "codemirror_mode": {
    "name": "ipython",
    "version": 3
   },
   "file_extension": ".py",
   "mimetype": "text/x-python",
   "name": "python",
   "nbconvert_exporter": "python",
   "pygments_lexer": "ipython3",
   "version": "3.9.13"
  }
 },
 "nbformat": 4,
 "nbformat_minor": 4
}
